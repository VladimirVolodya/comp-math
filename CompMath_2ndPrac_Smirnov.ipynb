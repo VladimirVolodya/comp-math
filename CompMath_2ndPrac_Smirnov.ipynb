{
  "nbformat": 4,
  "nbformat_minor": 0,
  "metadata": {
    "colab": {
      "provenance": []
    },
    "kernelspec": {
      "name": "python3",
      "display_name": "Python 3"
    },
    "language_info": {
      "name": "python"
    }
  },
  "cells": [
    {
      "cell_type": "code",
      "source": [
        "import numpy as np\n",
        "import matplotlib.pyplot as plt\n",
        "from abc import ABC, abstractmethod"
      ],
      "metadata": {
        "id": "WTYlsDk87u0y"
      },
      "execution_count": 58,
      "outputs": []
    },
    {
      "cell_type": "code",
      "execution_count": 59,
      "metadata": {
        "id": "MnJXWQZE6tCj"
      },
      "outputs": [],
      "source": [
        "def generate_system(n):\n",
        "  A = np.random.rand(n, n)\n",
        "  A = np.matrix(0.5 * (A + A.T) + n * np.identity(n))\n",
        "  return A, np.matrix(np.random.rand(n, 1))"
      ]
    },
    {
      "cell_type": "markdown",
      "source": [
        "$P = \\tau^{-1}I$\n",
        "\n",
        "$P(x^{k+1} - x^k) = \\tau^k(b - Ax^k)$\n",
        "\n",
        "$x^{k+1} = \\tau^kP^{-1}(b - Ax^k) + x^k$"
      ],
      "metadata": {
        "id": "UEeV_RIYGdsW"
      }
    },
    {
      "cell_type": "code",
      "source": [
        "class RandomConstStepChooser:\n",
        "  step = None\n",
        "\n",
        "  def __init__(self, A):\n",
        "    eigs, _ = np.linalg.eig(A)\n",
        "    self.step = np.random.rand(1)[0] * 2 / eigs.max()\n",
        "\n",
        "  def next_step(self, A, P_inv, b, x):\n",
        "    return self.step\n",
        "\n",
        "class OptConstStepChooser:\n",
        "  step = None\n",
        "\n",
        "  def __init__(self, A):\n",
        "    eigs, _ = np.linalg.eig(A)\n",
        "    self.step = 2 / (abs(eigs.min()) + abs(eigs.max()))\n",
        "\n",
        "  def next_step(self, A, P_inv, b, x):\n",
        "    return self.step\n",
        "\n",
        "class AlmostOptConstStepChooser:\n",
        "  step = None\n",
        "\n",
        "  def __init__(self, A):\n",
        "    n = A.shape[0]\n",
        "    max = A.max() * n * n\n",
        "    min = A.min() * n * n\n",
        "    for i in range(n):\n",
        "      r = 0\n",
        "      if i > 0:\n",
        "        r += np.abs(A[i,:i-1]).sum()\n",
        "      if i < n - 1:\n",
        "        r += np.abs(A[i,i+1:]).sum()\n",
        "      min_lamb = A[i,i] - r\n",
        "      max_lamb = A[i,i] + r\n",
        "      if max < max_lamb:\n",
        "        max = max_lamb\n",
        "      if min > min_lamb:\n",
        "        min = min_lamb\n",
        "    abs_max = max(abs(max), abs(min))\n",
        "    abs_min = min(abs(max), abs(max))\n",
        "    if max * min < 0:\n",
        "      abs_min = 0\n",
        "    self.step = 2 / (abs_min + abs_max)\n",
        "\n",
        "  def next_step(self, A, P_inv, b, x):\n",
        "    return self.step\n",
        "\n",
        "class DynamicStepChooser:\n",
        "  def __init__(self, A):\n",
        "    pass\n",
        "\n",
        "  def next_step(self, A, P_inv, b, x):\n",
        "    r = b - A * x\n",
        "    z = P_inv * r\n",
        "    return (z.T * r)[0,0] / (z.T * A * z)[0,0]"
      ],
      "metadata": {
        "id": "BKlrsqsY9aQ1"
      },
      "execution_count": 65,
      "outputs": []
    },
    {
      "cell_type": "code",
      "source": [
        "def solve(A, b, stepChooser, P=None, n_iter=1000):\n",
        "  assert A.shape[0] == A.shape[1]\n",
        "  assert A.shape[0] == b.shape[0]\n",
        "  assert (A == A.T).all()\n",
        "  n = A.shape[0]\n",
        "  sol_norm = np.linalg.norm(np.linalg.solve(A, b))\n",
        "  if P is None:\n",
        "    P = np.matrix(np.identity(n))\n",
        "  P_inv = np.linalg.inv(P)\n",
        "  P_inv_A = P_inv * A\n",
        "  x =  np.matrix(np.ones((n, 1)))\n",
        "  errs = []\n",
        "  for _ in range(n_iter):\n",
        "    err = b - A * x\n",
        "    errs += [np.linalg.norm(err) / sol_norm]\n",
        "    x += stepChooser.next_step(A, P_inv, b, x) * P_inv * err\n",
        "  return x"
      ],
      "metadata": {
        "id": "_3EVf2RxIK1d"
      },
      "execution_count": 69,
      "outputs": []
    },
    {
      "cell_type": "code",
      "source": [
        "A, b = generate_system(500)\n",
        "step_chooser = DynamicStepChooser(A)\n",
        "x = solve(A, b, step_chooser)\n",
        "np.linalg.norm(A * x - b) / np.linalg.norm(np.linalg.solve(A, b))"
      ],
      "metadata": {
        "colab": {
          "base_uri": "https://localhost:8080/"
        },
        "id": "efhQxA2BLTT7",
        "outputId": "860366dd-b31b-47b1-e691-1d22e4ba1224"
      },
      "execution_count": 71,
      "outputs": [
        {
          "output_type": "execute_result",
          "data": {
            "text/plain": [
              "3.829259632817029e-14"
            ]
          },
          "metadata": {},
          "execution_count": 71
        }
      ]
    }
  ]
}